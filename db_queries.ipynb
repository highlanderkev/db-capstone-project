{
 "cells": [
  {
   "cell_type": "code",
   "execution_count": null,
   "metadata": {},
   "outputs": [],
   "source": [
    "%pip install mysql-connector-python\n",
    "\n",
    "import mysql.connector as connector\n",
    "\n",
    "# Task 1\n",
    "connection = connector.connect(user=\"root\", password=\"\", db=\"littlelemondb\")\n",
    "\n",
    "cursor = connection.cursor()\n",
    "\n",
    "# Task 2\n",
    "show_tables_query = \"\"\"\n",
    "SHOW TABLES;\n",
    "\"\"\"\n",
    "\n",
    "cursor.execute(show_tables_query)\n",
    "results = cursor.fetchall()\n",
    "print(results)\n",
    "\n",
    "# Task 3\n",
    "customer_select_query = \"\"\"\n",
    "SELECT \n",
    "Customer.FullName AS FullName,\n",
    "Customer.ContactNumber AS PhoneNumber,\n",
    "Customer.Email AS Email,\n",
    "Address.Street AS Street,\n",
    "Address.City AS City,\n",
    "Address.State AS State,\n",
    "Address.Postal AS PostalCode,\n",
    "Address.Country AS Country\n",
    "FROM Orders \n",
    "JOIN Customer\n",
    "ON Orders.CustomerID=Customer.CustomerID\n",
    "JOIN Address\n",
    "ON Customer.AddressID=Address.AddressID\n",
    "WHERE Orders.TotalCost > 60.00;\n",
    "\"\"\"\n",
    "\n",
    "cursor.execute(customer_select_query)\n",
    "customers = cursor.fetchall()\n",
    "for customer in customers:\n",
    "    print(customer)"
   ]
  }
 ],
 "metadata": {
  "kernelspec": {
   "display_name": ".venv",
   "language": "python",
   "name": "python3"
  },
  "language_info": {
   "codemirror_mode": {
    "name": "ipython",
    "version": 3
   },
   "file_extension": ".py",
   "mimetype": "text/x-python",
   "name": "python",
   "nbconvert_exporter": "python",
   "pygments_lexer": "ipython3",
   "version": "3.12.1"
  }
 },
 "nbformat": 4,
 "nbformat_minor": 2
}
